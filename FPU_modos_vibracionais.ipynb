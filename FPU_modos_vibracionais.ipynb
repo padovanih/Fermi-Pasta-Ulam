{
  "nbformat": 4,
  "nbformat_minor": 0,
  "metadata": {
    "colab": {
      "name": "Tentativa 1.ipynb",
      "provenance": [],
      "collapsed_sections": []
    },
    "kernelspec": {
      "name": "python3",
      "display_name": "Python 3"
    },
    "language_info": {
      "name": "python"
    }
  },
  "cells": [
    {
      "cell_type": "code",
      "metadata": {
        "id": "_zxKT4Y9IY47"
      },
      "source": [
        "import numpy as np\n",
        "import pandas as pd\n",
        "import matplotlib.pyplot as plt\n",
        "from matplotlib import cm\n",
        "from mpl_toolkits.mplot3d import Axes3D\n",
        "import math\n",
        "from numpy.linalg import inv\n",
        "%matplotlib inline\n",
        "\n",
        "import os\n",
        "import imageio\n",
        "import time\n",
        "from IPython.display import Image\n"
      ],
      "execution_count": 105,
      "outputs": []
    },
    {
      "cell_type": "code",
      "metadata": {
        "id": "Kqk9oUL1J4a8"
      },
      "source": [
        "# Definições\n",
        "massa = 1.0\n",
        "k = 1\n",
        "alpha = 1\n",
        "beta = 1.0\n",
        "\n",
        "\n",
        "dt = 0.15\n",
        "tempo = 4000\n",
        "\n",
        "\n",
        "N = 30\n",
        "step = 1\n",
        "\n",
        "# Generate Signal\n",
        "signal_freq = 0.5\n",
        "signal_amplitude = 1\n",
        "\n",
        "\n",
        "salvar_img = True\n",
        "intervalo_imagem = 25\n",
        "\n",
        "salvar_img_fft = False\n",
        "intervalo_imagem_fft = 200\n",
        "\n",
        "\n",
        "\n",
        "\n",
        "pi = math.pi"
      ],
      "execution_count": 106,
      "outputs": []
    },
    {
      "cell_type": "code",
      "metadata": {
        "colab": {
          "base_uri": "https://localhost:8080/",
          "height": 347
        },
        "id": "3zzVVvhCJ4pq",
        "outputId": "7bdd007e-9343-4959-a535-eabe1eecec9d"
      },
      "source": [
        "#posX = [i for i in range(N+1)]\n",
        "\n",
        "#Parabola\n",
        "#posY = [N2**2-i**2 for i in range(-N2,N2+1)]\n",
        "#posY = [math.sin(i*pi/N) for i in range(0,N+1)]\n",
        "\n",
        "\n",
        "posX = np.arange(0, N+step, step)\n",
        "\n",
        "\n",
        "#Sine wave Signal\n",
        "posY = signal_amplitude * np.sin(2.0*np.pi*signal_freq*posX/N)\n",
        "\n",
        "\n",
        "num_particulas = len(posY)\n",
        "\n",
        "\n",
        "print(len(posX))\n",
        "print(len(posY))\n",
        "print(posY[-1])\n",
        "\n",
        "plt.ylabel(\"y\")\n",
        "plt.xlabel(\"x\")\n",
        "plt.plot(posX, posY)\n",
        "plt.plot(posX, [0 for i in range(len(posX))] )"
      ],
      "execution_count": 107,
      "outputs": [
        {
          "output_type": "stream",
          "text": [
            "31\n",
            "31\n",
            "5.66553889764798e-16\n"
          ],
          "name": "stdout"
        },
        {
          "output_type": "execute_result",
          "data": {
            "text/plain": [
              "[<matplotlib.lines.Line2D at 0x7f67ca99c990>]"
            ]
          },
          "metadata": {
            "tags": []
          },
          "execution_count": 107
        },
        {
          "output_type": "display_data",
          "data": {
            "image/png": "[encoded data removed]",
            "text/plain": [
              "<Figure size 432x288 with 1 Axes>"
            ]
          },
          "metadata": {
            "tags": [],
            "needs_background": "light"
          }
        }
      ]
    },
    {
      "cell_type": "code",
      "metadata": {
        "colab": {
          "base_uri": "https://localhost:8080/"
        },
        "id": "I-mqS-OXQlK_",
        "outputId": "446a905b-ceee-4ab4-a331-85ade5f1308e"
      },
      "source": [
        "veloY = [0 for i in range(num_particulas)]\n",
        "# print(\"Velocidade Inicial: {}\".format(veloY))\n",
        "print(\"Velocidade Inicial Size: {}\".format(len(veloY)))"
      ],
      "execution_count": 108,
      "outputs": [
        {
          "output_type": "stream",
          "text": [
            "Velocidade Inicial Size: 31\n"
          ],
          "name": "stdout"
        }
      ]
    },
    {
      "cell_type": "markdown",
      "metadata": {
        "id": "lIporZ2-SWnl"
      },
      "source": [
        "# Simulação"
      ]
    },
    {
      "cell_type": "code",
      "metadata": {
        "id": "U9m_fkw0TfYF"
      },
      "source": [
        "def aceleracao(posY):\n",
        "  size = len(posY)\n",
        "\n",
        "  aceY = [0 for i in range(size)]\n",
        "  for i in range(1,size-1):\n",
        "    aceY[i] = (k/massa) * (posY[i+1] + posY[i-1] - 2*posY[i]) * ( 1.0 + alpha*(posY[i+1]-posY[i-1]) )\n",
        "  \n",
        "  return aceY\n"
      ],
      "execution_count": 109,
      "outputs": []
    },
    {
      "cell_type": "code",
      "metadata": {
        "id": "CQUgFPfhSYaE"
      },
      "source": [
        "def velocidade(posY, veloY):\n",
        "  size = len(posY)\n",
        "\n",
        "  aceY = aceleracao(posY)\n",
        "\n",
        "  new_veloY = [0.0 for i in range(size)]\n",
        "  for i in range(size):\n",
        "    new_veloY[i] = veloY[i] + 0.5*aceY[i]*dt\n",
        "\n",
        "  return new_veloY"
      ],
      "execution_count": 110,
      "outputs": []
    },
    {
      "cell_type": "code",
      "metadata": {
        "id": "VBKH9cjoX1Ho"
      },
      "source": [
        "def velocidade_final(veloY, aceY):\n",
        "  size = len(veloY)\n",
        "\n",
        "  new_veloY = [0.0 for i in range(size)]\n",
        "  for i in range(size):\n",
        "    new_veloY[i] = veloY[i] + 0.5*aceY[i]*dt\n",
        "  \n",
        "  return new_veloY"
      ],
      "execution_count": 111,
      "outputs": []
    },
    {
      "cell_type": "code",
      "metadata": {
        "id": "16ALwB6sWk4m"
      },
      "source": [
        "def posicao(posY, new_veloY, dt):\n",
        "  size = len(posY)\n",
        "\n",
        "  new_posY = [0.0 for i in range(size)]\n",
        "  for i in range(size):\n",
        "    new_posY[i] = posY[i] + new_veloY[i]*dt\n",
        "  \n",
        "  return new_posY"
      ],
      "execution_count": 112,
      "outputs": []
    },
    {
      "cell_type": "code",
      "metadata": {
        "id": "OMnNX9NXdQ7F"
      },
      "source": [
        "def plota_figura(posX, posY, t):\n",
        "  figname = 'f.jpeg'\n",
        "  plt.xlabel('X')\n",
        "  plt.ylabel('Y')\n",
        "  plt.figure(figsize=(5,3))\n",
        "  plt.ylim(-1.01, 1.01)\n",
        "  plt.title('FPU - Tempo {:.1f}'.format(t))\n",
        "  \n",
        "  x = []\n",
        "  y = []\n",
        "  tamanho_step_pra_mostrar_N = int(num_particulas/N)\n",
        "  for i in range(0, len(posX), tamanho_step_pra_mostrar_N):\n",
        "    x.append(posX[i])\n",
        "    y.append(posY[i])\n",
        "\n",
        "  plt.scatter(x, y, s=2, color='black')\n",
        "  #plt.grid()\n",
        "  plt.savefig(figname)            \n",
        "  plt.close()\n",
        "  images.append(imageio.imread(figname))\n",
        "  os.remove(figname)"
      ],
      "execution_count": 113,
      "outputs": []
    },
    {
      "cell_type": "code",
      "metadata": {
        "id": "ud284-cjAh7J"
      },
      "source": [
        "def plota_fft(x, y, tempo):\n",
        "  figname = 'fft.jpeg'\n",
        "  plt.xlabel('X')\n",
        "  plt.ylabel('Nada')\n",
        "  plt.ylim(0,1.01)\n",
        "  plt.title('FFT {:.2f}'.format(tempo))\n",
        "\n",
        "#  x = [i for i in range(len(y))]\n",
        "\n",
        "  plt.scatter(x, y, c='black', s=5)\n",
        "  plt.grid()\n",
        "  plt.savefig(figname)            \n",
        "  plt.close()\n",
        "  images_fft.append(imageio.imread(figname))\n",
        "  os.remove(figname)"
      ],
      "execution_count": 114,
      "outputs": []
    },
    {
      "cell_type": "code",
      "metadata": {
        "id": "62hn3axD0gLN"
      },
      "source": [
        "from scipy.fft import fft, fftfreq\n",
        "\n",
        "def fazerFFT(posY, step, fft_vet):\n",
        "  yf = fft(posY)\n",
        "  yf = np.abs(yf)[0:int(len(yf)/2.0)]\n",
        "  soma = np.sum(yf)\n",
        "  \n",
        "  for i in range(len(fft_vet)):\n",
        "    fft_vet[i].append(yf[i] / soma)\n",
        "  \n",
        "  return fft_vet, yf/soma"
      ],
      "execution_count": 115,
      "outputs": []
    },
    {
      "cell_type": "code",
      "metadata": {
        "id": "Z-6g7DWujrEL"
      },
      "source": [
        "from scipy import fftpack\n",
        "\n",
        "def fazerFFT2(posY, N, fft_vet):\n",
        "  qnt_pontos = len(posY)\n",
        "\n",
        "  sig_noise_fft = fftpack.fft(posY)\n",
        "  sig_noise_amp = 2.0 / qnt_pontos * np.abs(sig_noise_fft)\n",
        "  sig_noise_freq = np.abs(fftpack.fftfreq(qnt_pontos, N/(qnt_pontos)))\n",
        "\n",
        "  soma = np.sum(sig_noise_amp)\n",
        "  for i in range(len(fft_vet)):\n",
        "    fft_vet[i].append(sig_noise_amp[i]/soma)\n",
        "\n",
        "\n",
        "  return sig_noise_freq, sig_noise_amp, fft_vet"
      ],
      "execution_count": 116,
      "outputs": []
    },
    {
      "cell_type": "markdown",
      "metadata": {
        "id": "_rkSe-laMKwP"
      },
      "source": [
        "# Codigo principal"
      ]
    },
    {
      "cell_type": "code",
      "metadata": {
        "id": "gAYZV3rJQx7u",
        "colab": {
          "base_uri": "https://localhost:8080/"
        },
        "outputId": "8b9318b8-9e4e-4c2b-dca4-13e54cf7b982"
      },
      "source": [
        "t = 0\n",
        "contador_fig = 0\n",
        "contador_fig_fft = 0\n",
        "\n",
        "images = []\n",
        "images_fft = []\n",
        "\n",
        "sig_noise_freq = []\n",
        "sig_noise_amp = []\n",
        "\n",
        "fft_vet = [[1], [0], [0], [0], [0], [0]]\n",
        "\n",
        "yf = []\n",
        "\n",
        "while(t < tempo):\n",
        "  \n",
        "  # PLOTA A CORDA\n",
        "  if(contador_fig == intervalo_imagem and salvar_img):\n",
        "    plota_figura(posX, posY, t)\n",
        "    contador_fig = 0\n",
        "  \n",
        "  # PLOTA O FFT\n",
        "  if(contador_fig_fft == intervalo_imagem_fft and salvar_img_fft):\n",
        "    # fft_vet, yf = fazerFFT(posY, step, fft_vet)\n",
        "    # plota_fft(sig_noise_freq, sig_noise_amp, t)\n",
        "    sig_noise_freq, sig_noise_amp, fft_vet = fazerFFT2(posY, N, fft_vet)\n",
        "    contador_fig_fft = 0\n",
        "\n",
        "\n",
        "  # calcula v(t + 0.5dt) = v(t) + 0.5*a(t)*dt\n",
        "  new_veloY = velocidade(posY, veloY)\n",
        "\n",
        "  # calcula x(t+dt) = x(t) + v(t+0.5dt)*dt\n",
        "  posY = posicao(posY, new_veloY, dt)\n",
        "\n",
        "  # Calcula a(t+dt)\n",
        "  new_aceY = aceleracao(posY)\n",
        "\n",
        "  # Calcula v(t+dt)\n",
        "  veloY = velocidade_final(new_veloY, new_aceY)\n",
        "\n",
        "  t = t + dt\n",
        "  contador_fig = contador_fig + 1\n",
        "  contador_fig_fft = contador_fig_fft + 1\n",
        "\n",
        "\n",
        "plt.close()\n",
        "\n",
        "if salvar_img:\n",
        "  imageio.mimsave('corda.gif', images, fps=10, subrectangles=True, palettesize=32)\n",
        "  print(\"salvou corda\")\n",
        "if salvar_img_fft:\n",
        "  #imageio.mimsave('fft.gif', images_fft, fps=10)\n",
        "  print(\"oi\")"
      ],
      "execution_count": 117,
      "outputs": [
        {
          "output_type": "stream",
          "text": [
            "salvou corda\n"
          ],
          "name": "stdout"
        }
      ]
    },
    {
      "cell_type": "code",
      "metadata": {
        "id": "q0M_P3TX3cFc",
        "colab": {
          "base_uri": "https://localhost:8080/",
          "height": 282
        },
        "outputId": "eb951a79-242b-44ee-a0c5-d4b32ab96dc2"
      },
      "source": [
        "plt.plot(fft_vet[1])"
      ],
      "execution_count": 118,
      "outputs": [
        {
          "output_type": "execute_result",
          "data": {
            "text/plain": [
              "[<matplotlib.lines.Line2D at 0x7f67f6c414d0>]"
            ]
          },
          "metadata": {
            "tags": []
          },
          "execution_count": 118
        },
        {
          "output_type": "display_data",
          "data": {
            "image/png": "[encoded data removed]",
            "text/plain": [
              "<Figure size 432x288 with 1 Axes>"
            ]
          },
          "metadata": {
            "tags": [],
            "needs_background": "light"
          }
        }
      ]
    },
    {
      "cell_type": "code",
      "metadata": {
        "id": "iFurpv4U3jTH",
        "colab": {
          "base_uri": "https://localhost:8080/",
          "height": 282
        },
        "outputId": "9753aba2-d76e-4662-9c67-bb4124e14a60"
      },
      "source": [
        "plt.plot(fft_vet[2])"
      ],
      "execution_count": 119,
      "outputs": [
        {
          "output_type": "execute_result",
          "data": {
            "text/plain": [
              "[<matplotlib.lines.Line2D at 0x7f67f4101990>]"
            ]
          },
          "metadata": {
            "tags": []
          },
          "execution_count": 119
        },
        {
          "output_type": "display_data",
          "data": {
            "image/png": "[encoded data removed]",
            "text/plain": [
              "<Figure size 432x288 with 1 Axes>"
            ]
          },
          "metadata": {
            "tags": [],
            "needs_background": "light"
          }
        }
      ]
    },
    {
      "cell_type": "code",
      "metadata": {
        "id": "IifLOxQJwWts",
        "colab": {
          "base_uri": "https://localhost:8080/",
          "height": 282
        },
        "outputId": "1591d483-8233-4c88-d50b-e2d7e9a63065"
      },
      "source": [
        "plt.plot(fft_vet[3])"
      ],
      "execution_count": 120,
      "outputs": [
        {
          "output_type": "execute_result",
          "data": {
            "text/plain": [
              "[<matplotlib.lines.Line2D at 0x7f67d91fdd10>]"
            ]
          },
          "metadata": {
            "tags": []
          },
          "execution_count": 120
        },
        {
          "output_type": "display_data",
          "data": {
            "image/png": "[encoded data removed]",
            "text/plain": [
              "<Figure size 432x288 with 1 Axes>"
            ]
          },
          "metadata": {
            "tags": [],
            "needs_background": "light"
          }
        }
      ]
    },
    {
      "cell_type": "code",
      "metadata": {
        "id": "vTyox6tHwYA6",
        "colab": {
          "base_uri": "https://localhost:8080/",
          "height": 282
        },
        "outputId": "ffa96aa2-2378-499e-eb73-f27aae750f23"
      },
      "source": [
        "plt.plot(fft_vet[4])"
      ],
      "execution_count": 121,
      "outputs": [
        {
          "output_type": "execute_result",
          "data": {
            "text/plain": [
              "[<matplotlib.lines.Line2D at 0x7f67f608e090>]"
            ]
          },
          "metadata": {
            "tags": []
          },
          "execution_count": 121
        },
        {
          "output_type": "display_data",
          "data": {
            "image/png": "[encoded data removed]",
            "text/plain": [
              "<Figure size 432x288 with 1 Axes>"
            ]
          },
          "metadata": {
            "tags": [],
            "needs_background": "light"
          }
        }
      ]
    },
    {
      "cell_type": "code",
      "metadata": {
        "id": "iy0OCa97kcf4"
      },
      "source": [
        "def intermedia(vet, qnt_pt):\n",
        "  new_vet = [[] for i in range(len(vet))]\n",
        "  for i in range(0, len(vet[0])-17, qnt_pt):\n",
        "    for k in range(len(vet)): # pra cada modo\n",
        "      soma = 0.0\n",
        "      for j in range(0, qnt_pt):\n",
        "        soma = soma + fft_vet[k][i+j]\n",
        "      new_vet[k].append(soma/qnt_pt)\n",
        "  return new_vet\n",
        "\n",
        "\n"
      ],
      "execution_count": 122,
      "outputs": []
    },
    {
      "cell_type": "code",
      "metadata": {
        "id": "CJkXqLjzSgIz"
      },
      "source": [
        ""
      ],
      "execution_count": 122,
      "outputs": []
    },
    {
      "cell_type": "code",
      "metadata": {
        "id": "uezA8Yh1M8a5"
      },
      "source": [
        "# new_fft = intermedia(fft_vet, 10)\n",
        "\n",
        "# max = np.max(new_fft[1])\n",
        "\n",
        "# for i in range(len(new_fft)):\n",
        "#   for j in range(len(new_fft[0])):\n",
        "#     new_fft[i][j] = new_fft[i][j]/max "
      ],
      "execution_count": 123,
      "outputs": []
    },
    {
      "cell_type": "code",
      "metadata": {
        "id": "0RlnHjGKjHqi"
      },
      "source": [
        "\n",
        "# plt.figure(figsize=(15,7))\n",
        "\n",
        "# #new_fft = intermedia(new_fft, 2)\n",
        "# plt.plot(new_fft[1][1:200], label='Modo 1')\n",
        "# plt.plot(new_fft[2][1:200], label='Modo 2')\n",
        "# plt.plot(new_fft[3][1:200], label='Modo 3')\n",
        "# plt.plot(new_fft[4][1:200], label='Modo 4')\n",
        "# plt.plot(new_fft[5][1:200], label='Modo 5')\n",
        "# plt.title(\"Modos de vibração\")\n",
        "# plt.xlabel(\"Tempo\")\n",
        "# plt.ylabel(\"Porcentagem\")\n",
        "# plt.legend()"
      ],
      "execution_count": 124,
      "outputs": []
    },
    {
      "cell_type": "code",
      "metadata": {
        "id": "BamKcMpbJkC2"
      },
      "source": [
        "# for k in range(len(vet)): # pra cada modo\n",
        "#   for i in range(0, len(vet[0]), qnt_pt):\n",
        "  \n",
        "#     soma = 0.0\n",
        "#     for j in range(0, qnt_pt):\n",
        "#       soma = soma + fft_vet[k][i+j]\n",
        "#     new_vet[k].append(soma/qnt_pt)\n"
      ],
      "execution_count": 125,
      "outputs": []
    }
  ]
}